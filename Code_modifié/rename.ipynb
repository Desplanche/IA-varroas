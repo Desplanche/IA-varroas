{
 "cells": [
  {
   "cell_type": "code",
   "execution_count": 9,
   "metadata": {},
   "outputs": [],
   "source": [
    "import os\n",
    "import glob\n",
    "\n",
    "# Chemin du dossier contenant les fichiers\n",
    "dossier = 'img_lange_300ppp'\n",
    "\n",
    "# Extension de sortie des fichiers renommés\n",
    "extension_sortie = '.jpg'\n",
    "\n",
    "# Liste des fichiers dans le dossier\n",
    "fichiers = glob.glob(os.path.join(dossier, '*'))\n",
    "\n",
    "# Compteur pour les noms\n",
    "compteur = 1\n",
    "\n",
    "# Parcourir chaque fichier dans la liste\n",
    "for fichier in fichiers:\n",
    "    # Vérifier si c'est un fichier\n",
    "    if os.path.isfile(fichier):\n",
    "        # Obtenir le chemin complet du fichier\n",
    "        chemin_fichier = os.path.abspath(fichier)\n",
    "        \n",
    "        # Créer le nouveau nom de fichier\n",
    "        nouveau_nom = f\"L{compteur}{extension_sortie}\"\n",
    "        \n",
    "        # Obtenir le chemin complet du nouveau fichier\n",
    "        nouveau_chemin = os.path.join(dossier, nouveau_nom)\n",
    "        \n",
    "        # Renommer le fichier\n",
    "        os.rename(chemin_fichier, nouveau_chemin)\n",
    "        \n",
    "        # Incrémenter le compteur\n",
    "        compteur += 1\n"
   ]
  }
 ],
 "metadata": {
  "kernelspec": {
   "display_name": "Python 3",
   "language": "python",
   "name": "python3"
  },
  "language_info": {
   "codemirror_mode": {
    "name": "ipython",
    "version": 3
   },
   "file_extension": ".py",
   "mimetype": "text/x-python",
   "name": "python",
   "nbconvert_exporter": "python",
   "pygments_lexer": "ipython3",
   "version": "3.11.2"
  },
  "orig_nbformat": 4
 },
 "nbformat": 4,
 "nbformat_minor": 2
}
