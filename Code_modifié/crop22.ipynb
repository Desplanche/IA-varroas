{
 "cells": [
  {
   "cell_type": "code",
   "execution_count": 1,
   "metadata": {},
   "outputs": [
    {
     "ename": "NameError",
     "evalue": "name 'Image' is not defined",
     "output_type": "error",
     "traceback": [
      "\u001b[1;31m---------------------------------------------------------------------------\u001b[0m",
      "\u001b[1;31mNameError\u001b[0m                                 Traceback (most recent call last)",
      "Cell \u001b[1;32mIn[1], line 53\u001b[0m\n\u001b[0;32m     50\u001b[0m input_folder \u001b[39m=\u001b[39m \u001b[39m\"\u001b[39m\u001b[39mbase/varroas_rotation\u001b[39m\u001b[39m\"\u001b[39m\n\u001b[0;32m     51\u001b[0m output_folder \u001b[39m=\u001b[39m \u001b[39m\"\u001b[39m\u001b[39mbase/varroas_final\u001b[39m\u001b[39m\"\u001b[39m\n\u001b[1;32m---> 53\u001b[0m crop_images_in_folder(input_folder, output_folder)\n",
      "Cell \u001b[1;32mIn[1], line 19\u001b[0m, in \u001b[0;36mcrop_images_in_folder\u001b[1;34m(folder_path, output_folder)\u001b[0m\n\u001b[0;32m     16\u001b[0m input_file_path \u001b[39m=\u001b[39m os\u001b[39m.\u001b[39mpath\u001b[39m.\u001b[39mjoin(folder_path, file)\n\u001b[0;32m     18\u001b[0m \u001b[39m# Ouvrir l'image\u001b[39;00m\n\u001b[1;32m---> 19\u001b[0m image \u001b[39m=\u001b[39m Image\u001b[39m.\u001b[39mopen(input_file_path)\n\u001b[0;32m     21\u001b[0m \u001b[39m# Récupérer les dimensions de l'image\u001b[39;00m\n\u001b[0;32m     22\u001b[0m width, height \u001b[39m=\u001b[39m image\u001b[39m.\u001b[39msize\n",
      "\u001b[1;31mNameError\u001b[0m: name 'Image' is not defined"
     ]
    }
   ],
   "source": [
    "import os\n",
    "\n",
    "def crop_images_in_folder(folder_path, output_folder):\n",
    "    # Vérifier si le dossier de sortie existe, sinon le créer\n",
    "    if not os.path.exists(output_folder):\n",
    "        os.makedirs(output_folder)\n",
    "\n",
    "    # Obtenir la liste des fichiers dans le dossier d'entrée\n",
    "    files = os.listdir(folder_path)\n",
    "\n",
    "    for file in files:\n",
    "        # Vérifier si le fichier est une image\n",
    "        supported_formats = ('.png', '.jpg', '.jpeg')\n",
    "        if file.lower().endswith(supported_formats):\n",
    "            # Chemin d'accès complet du fichier d'entrée\n",
    "            input_file_path = os.path.join(folder_path, file)\n",
    "\n",
    "            # Ouvrir l'image\n",
    "            image = Image.open(input_file_path)\n",
    "\n",
    "            # Récupérer les dimensions de l'image\n",
    "            width, height = image.size\n",
    "\n",
    "            # Vérifier si l'image a les dimensions attendues (11x11)\n",
    "            if width == 11 and height == 11:\n",
    "                # L'image a déjà les dimensions attendues, la copier directement\n",
    "                cropped_image = image.copy()\n",
    "            else:\n",
    "                # Calculer les coordonnées de recadrage\n",
    "                left = (width - 11) // 2\n",
    "                top = (height - 11) // 2\n",
    "                right = left + 11\n",
    "                bottom = top + 11\n",
    "\n",
    "                # Recadrer l'image\n",
    "                cropped_image = image.crop((left, top, right, bottom))\n",
    "\n",
    "            # Nom du fichier de sortie\n",
    "            output_file_path = os.path.join(output_folder, file)\n",
    "\n",
    "            # Enregistrer l'image recadrée\n",
    "            cropped_image.save(output_file_path)\n",
    "\n",
    "            # Fermer l'image\n",
    "            image.close()\n",
    "\n",
    "    print(\"Recadrage terminé.\")\n",
    "\n",
    "# Exemple d'utilisation\n",
    "input_folder = \"base/varroas_rotation\"\n",
    "output_folder = \"base/varroas_final\"\n",
    "\n",
    "crop_images_in_folder(input_folder, output_folder)\n"
   ]
  }
 ],
 "metadata": {
  "kernelspec": {
   "display_name": "Python 3",
   "language": "python",
   "name": "python3"
  },
  "language_info": {
   "codemirror_mode": {
    "name": "ipython",
    "version": 3
   },
   "file_extension": ".py",
   "mimetype": "text/x-python",
   "name": "python",
   "nbconvert_exporter": "python",
   "pygments_lexer": "ipython3",
   "version": "3.11.2"
  },
  "orig_nbformat": 4
 },
 "nbformat": 4,
 "nbformat_minor": 2
}
