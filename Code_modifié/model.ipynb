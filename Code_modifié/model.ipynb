{
 "cells": [
  {
   "cell_type": "code",
   "execution_count": 29,
   "metadata": {},
   "outputs": [],
   "source": [
    "import numpy as np\n",
    "import matplotlib.pyplot as plt\n",
    "import os\n",
    "import pandas as pd\n",
    "import cv2\n",
    "from sklearn.model_selection import train_test_split\n",
    "import tensorflow as tf\n",
    "from sklearn.metrics import confusion_matrix\n",
    "import seaborn as sns"
   ]
  },
  {
   "cell_type": "code",
   "execution_count": 27,
   "metadata": {},
   "outputs": [
    {
     "name": "stdout",
     "output_type": "stream",
     "text": [
      "[0 0 0 ... 1 1 1]\n"
     ]
    }
   ],
   "source": [
    "\n",
    "# Chemins vers les dossiers contenant les images\n",
    "varroas_folder = \"base/varroas_crop_20\"\n",
    "non_varroas_folder = \"base/non_varroas_crop_20/\"\n",
    "\n",
    "# Récupération des chemins des images dans chaque dossier\n",
    "varroas_images = [os.path.join(varroas_folder, image_file) for image_file in os.listdir(varroas_folder)]\n",
    "non_varroas_images = [os.path.join(non_varroas_folder, image_file) for image_file in os.listdir(non_varroas_folder)]\n",
    "\n",
    "# Labels correspondants pour chaque classe\n",
    "varroas_labels = [0] * len(varroas_images)  # Classe 0 pour les varroas\n",
    "non_varroas_labels = [1] * len(non_varroas_images)  # Classe 1 pour les non-varroas\n",
    "\n",
    "# Concaténation des données et des labels\n",
    "images = varroas_images + non_varroas_images\n",
    "labels = varroas_labels + non_varroas_labels\n",
    "\n",
    "# Convertir les images en tableaux et les redimensionner si nécessaire\n",
    "resized_images = []\n",
    "for image_path in images:\n",
    "    image = cv2.imread(image_path)\n",
    "    resized_image = cv2.resize(image, (11, 11))  # dimensions souhaitées\n",
    "    resized_images.append(resized_image)\n",
    "\n",
    "# Convertir la liste en tableau numpy\n",
    "X = np.array(resized_images)\n",
    "y = np.array(labels)\n",
    "print(y)\n",
    "# Division des données en ensembles d'entraînement et de test\n",
    "X_train, X_test, y_train, y_test = train_test_split(X, y, test_size=0.3)\n",
    "\n"
   ]
  },
  {
   "cell_type": "code",
   "execution_count": 21,
   "metadata": {},
   "outputs": [
    {
     "name": "stdout",
     "output_type": "stream",
     "text": [
      "Epoch 1/50\n",
      "196/196 [==============================] - 2s 6ms/step - loss: 0.2282 - accuracy: 0.9411\n",
      "Epoch 2/50\n",
      "196/196 [==============================] - 1s 4ms/step - loss: 0.0376 - accuracy: 0.9866\n",
      "Epoch 3/50\n",
      "196/196 [==============================] - 1s 4ms/step - loss: 0.0417 - accuracy: 0.9853\n",
      "Epoch 4/50\n",
      "196/196 [==============================] - 1s 4ms/step - loss: 0.0359 - accuracy: 0.9890\n",
      "Epoch 5/50\n",
      "196/196 [==============================] - 1s 4ms/step - loss: 0.0221 - accuracy: 0.9926\n",
      "Epoch 6/50\n",
      "196/196 [==============================] - 1s 4ms/step - loss: 0.0192 - accuracy: 0.9930\n",
      "Epoch 7/50\n",
      "196/196 [==============================] - 1s 6ms/step - loss: 0.0167 - accuracy: 0.9948\n",
      "Epoch 8/50\n",
      "196/196 [==============================] - 1s 6ms/step - loss: 0.0361 - accuracy: 0.9878\n",
      "Epoch 9/50\n",
      "196/196 [==============================] - 1s 6ms/step - loss: 0.0140 - accuracy: 0.9953\n",
      "Epoch 10/50\n",
      "196/196 [==============================] - 1s 6ms/step - loss: 0.0179 - accuracy: 0.9937\n",
      "Epoch 11/50\n",
      "196/196 [==============================] - 1s 5ms/step - loss: 0.0084 - accuracy: 0.9975\n",
      "Epoch 12/50\n",
      "196/196 [==============================] - 1s 5ms/step - loss: 0.0080 - accuracy: 0.9975\n",
      "Epoch 13/50\n",
      "196/196 [==============================] - 1s 5ms/step - loss: 0.0153 - accuracy: 0.9941\n",
      "Epoch 14/50\n",
      "196/196 [==============================] - 1s 6ms/step - loss: 0.0093 - accuracy: 0.9968\n",
      "Epoch 15/50\n",
      "196/196 [==============================] - 1s 5ms/step - loss: 0.0306 - accuracy: 0.9898\n",
      "Epoch 16/50\n",
      "196/196 [==============================] - 1s 4ms/step - loss: 0.0095 - accuracy: 0.9966\n",
      "Epoch 17/50\n",
      "196/196 [==============================] - 1s 6ms/step - loss: 0.0051 - accuracy: 0.9988\n",
      "Epoch 18/50\n",
      "196/196 [==============================] - 1s 4ms/step - loss: 0.0425 - accuracy: 0.9867\n",
      "Epoch 19/50\n",
      "196/196 [==============================] - 1s 4ms/step - loss: 0.0141 - accuracy: 0.9948\n",
      "Epoch 20/50\n",
      "196/196 [==============================] - 1s 5ms/step - loss: 0.0159 - accuracy: 0.9947\n",
      "Epoch 21/50\n",
      "196/196 [==============================] - 1s 5ms/step - loss: 0.0115 - accuracy: 0.9964\n",
      "Epoch 22/50\n",
      "196/196 [==============================] - 1s 4ms/step - loss: 0.0099 - accuracy: 0.9969\n",
      "Epoch 23/50\n",
      "196/196 [==============================] - 1s 4ms/step - loss: 0.0048 - accuracy: 0.9982\n",
      "Epoch 24/50\n",
      "196/196 [==============================] - 1s 5ms/step - loss: 0.0087 - accuracy: 0.9967\n",
      "Epoch 25/50\n",
      "196/196 [==============================] - 1s 4ms/step - loss: 0.0254 - accuracy: 0.9926\n",
      "Epoch 26/50\n",
      "196/196 [==============================] - 1s 4ms/step - loss: 0.0318 - accuracy: 0.9885\n",
      "Epoch 27/50\n",
      "196/196 [==============================] - 1s 3ms/step - loss: 0.0079 - accuracy: 0.9972\n",
      "Epoch 28/50\n",
      "196/196 [==============================] - 1s 4ms/step - loss: 0.0037 - accuracy: 0.9987\n",
      "Epoch 29/50\n",
      "196/196 [==============================] - 1s 4ms/step - loss: 0.0020 - accuracy: 0.9996\n",
      "Epoch 30/50\n",
      "196/196 [==============================] - 1s 4ms/step - loss: 0.0207 - accuracy: 0.9940\n",
      "Epoch 31/50\n",
      "196/196 [==============================] - 1s 3ms/step - loss: 0.0074 - accuracy: 0.9968\n",
      "Epoch 32/50\n",
      "196/196 [==============================] - 1s 3ms/step - loss: 0.0082 - accuracy: 0.9973\n",
      "Epoch 33/50\n",
      "196/196 [==============================] - 1s 3ms/step - loss: 0.0050 - accuracy: 0.9984\n",
      "Epoch 34/50\n",
      "196/196 [==============================] - 1s 3ms/step - loss: 0.0063 - accuracy: 0.9978\n",
      "Epoch 35/50\n",
      "196/196 [==============================] - 1s 4ms/step - loss: 0.0024 - accuracy: 0.9993\n",
      "Epoch 36/50\n",
      "196/196 [==============================] - 1s 3ms/step - loss: 0.0064 - accuracy: 0.9975\n",
      "Epoch 37/50\n",
      "196/196 [==============================] - 1s 3ms/step - loss: 0.0599 - accuracy: 0.9842\n",
      "Epoch 38/50\n",
      "196/196 [==============================] - 1s 4ms/step - loss: 0.0093 - accuracy: 0.9970\n",
      "Epoch 39/50\n",
      "196/196 [==============================] - 1s 3ms/step - loss: 0.0073 - accuracy: 0.9976\n",
      "Epoch 40/50\n",
      "196/196 [==============================] - 1s 3ms/step - loss: 0.0054 - accuracy: 0.9985\n",
      "Epoch 41/50\n",
      "196/196 [==============================] - 1s 3ms/step - loss: 0.0063 - accuracy: 0.9976\n",
      "Epoch 42/50\n",
      "196/196 [==============================] - 1s 3ms/step - loss: 0.0052 - accuracy: 0.9982\n",
      "Epoch 43/50\n",
      "196/196 [==============================] - 1s 3ms/step - loss: 0.0042 - accuracy: 0.9985\n",
      "Epoch 44/50\n",
      "196/196 [==============================] - 1s 3ms/step - loss: 0.0091 - accuracy: 0.9964\n",
      "Epoch 45/50\n",
      "196/196 [==============================] - 1s 3ms/step - loss: 0.0076 - accuracy: 0.9978\n",
      "Epoch 46/50\n",
      "196/196 [==============================] - 1s 3ms/step - loss: 0.0152 - accuracy: 0.9946\n",
      "Epoch 47/50\n",
      "196/196 [==============================] - 1s 4ms/step - loss: 0.0068 - accuracy: 0.9977\n",
      "Epoch 48/50\n",
      "196/196 [==============================] - 1s 3ms/step - loss: 0.0035 - accuracy: 0.9986\n",
      "Epoch 49/50\n",
      "196/196 [==============================] - 1s 3ms/step - loss: 0.0027 - accuracy: 0.9989\n",
      "Epoch 50/50\n",
      "196/196 [==============================] - 1s 3ms/step - loss: 0.0067 - accuracy: 0.9984\n"
     ]
    },
    {
     "data": {
      "text/plain": [
       "<keras.callbacks.History at 0x23706743250>"
      ]
     },
     "execution_count": 21,
     "metadata": {},
     "output_type": "execute_result"
    }
   ],
   "source": [
    "\n",
    "model = tf.keras.models.Sequential([\n",
    "    tf.keras.layers.Conv2D(64,(3,3) ,input_shape = (11,11,3),activation = 'relu'),  \n",
    "    tf.keras.layers.MaxPooling2D((2,2)),\n",
    "    tf.keras.layers.Conv2D(32,(3,3) ,activation = 'relu'),\n",
    "    tf.keras.layers.MaxPooling2D((2,2)),\n",
    "    \n",
    "    tf.keras.layers.Flatten(),\n",
    "    tf.keras.layers.Dense(32,activation = 'relu'),\n",
    "    tf.keras.layers.Dense(1,activation = 'sigmoid')\n",
    "])\n",
    "\n",
    "# Compile the model\n",
    "model.compile(optimizer='adam',\n",
    "              loss='binary_crossentropy',\n",
    "              metrics=['accuracy'])\n",
    "\n",
    "model.fit(X_train, y_train, epochs=50, batch_size=50)\n"
   ]
  },
  {
   "cell_type": "code",
   "execution_count": 22,
   "metadata": {},
   "outputs": [
    {
     "name": "stdout",
     "output_type": "stream",
     "text": [
      "131/131 [==============================] - 0s 2ms/step - loss: 0.0189 - accuracy: 0.9952\n",
      "Test accuracy: 0.995219886302948\n"
     ]
    }
   ],
   "source": [
    "test_loss, test_acc = model.evaluate(X_test, y_test)\n",
    "print('Test accuracy:', test_acc)"
   ]
  },
  {
   "cell_type": "code",
   "execution_count": 30,
   "metadata": {},
   "outputs": [
    {
     "name": "stdout",
     "output_type": "stream",
     "text": [
      "131/131 [==============================] - 0s 1ms/step\n"
     ]
    },
    {
     "data": {
      "image/png": "[encoded data removed]",
      "text/plain": [
       "<Figure size 640x480 with 2 Axes>"
      ]
     },
     "metadata": {},
     "output_type": "display_data"
    }
   ],
   "source": [
    "# Supposez que vous avez entraîné votre modèle et obtenu les prédictions sur l'ensemble de test\n",
    "y_pred = model.predict(X_test)\n",
    "\n",
    "y_pred_binary = (y_pred >= 0.5).astype(int)\n",
    "\n",
    "# Créer la matrice de confusion\n",
    "confusion_matrix = confusion_matrix(y_test, y_pred_binary)\n",
    "\n",
    "# Définir les étiquettes de classe\n",
    "class_labels = ['Varroa', 'Non-varroa']  # Remplacez les noms des classes par les vôtres\n",
    "\n",
    "# Créer une heatmap de la matrice de confusion\n",
    "sns.heatmap(confusion_matrix, annot=True, cmap='Blues', fmt='d', xticklabels=class_labels, yticklabels=class_labels)\n",
    "\n",
    "# Ajouter des étiquettes d'axe et un titre\n",
    "plt.xlabel('Prédictions')\n",
    "plt.ylabel('Vraies étiquettes')\n",
    "plt.title('Matrice de confusion')\n",
    "\n",
    "# Afficher la figure\n",
    "plt.show()\n",
    "\n",
    "\n"
   ]
  }
 ],
 "metadata": {
  "kernelspec": {
   "display_name": "Python 3",
   "language": "python",
   "name": "python3"
  },
  "language_info": {
   "codemirror_mode": {
    "name": "ipython",
    "version": 3
   },
   "file_extension": ".py",
   "mimetype": "text/x-python",
   "name": "python",
   "nbconvert_exporter": "python",
   "pygments_lexer": "ipython3",
   "version": "3.11.2"
  },
  "orig_nbformat": 4
 },
 "nbformat": 4,
 "nbformat_minor": 2
}
