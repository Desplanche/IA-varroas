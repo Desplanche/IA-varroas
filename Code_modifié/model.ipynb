{
 "cells": [
  {
   "cell_type": "code",
   "execution_count": 1,
   "metadata": {},
   "outputs": [],
   "source": [
    "import numpy as np\n",
    "import matplotlib.pyplot as plt\n",
    "import os\n",
    "import pandas as pd\n",
    "import cv2\n",
    "from sklearn.model_selection import train_test_split\n",
    "import tensorflow as tf\n",
    "from sklearn.metrics import confusion_matrix\n",
    "import seaborn as sns"
   ]
  },
  {
   "cell_type": "code",
   "execution_count": 4,
   "metadata": {},
   "outputs": [
    {
     "name": "stdout",
     "output_type": "stream",
     "text": [
      "[0 0 0 ... 1 1 1]\n"
     ]
    }
   ],
   "source": [
    "# Chemins vers les dossiers contenant les images\n",
    "#varroas_folder = \"base/varroas_crop_20/\"\n",
    "#non_varroas_folder = \"base/non_varroas_crop_20/\"\n",
    "varroas_folder = \"D:/base/varroas_crop_20/\"\n",
    "non_varroas_folder = \"D:/base/non_varroas_crop_20/\"\n",
    "\n",
    "\n",
    "# Récupération des chemins des images dans chaque dossier\n",
    "varroas_images = [os.path.join(varroas_folder, image_file) for image_file in os.listdir(varroas_folder)]\n",
    "non_varroas_images = [os.path.join(non_varroas_folder, image_file) for image_file in os.listdir(non_varroas_folder)]\n",
    "\n",
    "# Labels correspondants pour chaque classe\n",
    "varroas_labels = [0] * len(varroas_images)  # Classe 0 pour les varroas\n",
    "non_varroas_labels = [1] * len(non_varroas_images)  # Classe 1 pour les non-varroas\n",
    "\n",
    "# Concaténation des données et des labels\n",
    "images = varroas_images + non_varroas_images\n",
    "labels = varroas_labels + non_varroas_labels\n",
    "\n",
    "# Convertir les images en tableaux et les redimensionner si nécessaire\n",
    "resized_images = []\n",
    "for image_path in images:\n",
    "    image = cv2.imread(image_path)\n",
    "    resized_image = cv2.resize(image, (11, 11))  # dimensions souhaitées\n",
    "    resized_images.append(resized_image)\n",
    "\n",
    "# Convertir la liste en tableau numpy\n",
    "X = np.array(resized_images)\n",
    "y = np.array(labels)\n",
    "print(y)\n",
    "# Division des données en ensembles d'entraînement et de test\n",
    "X_train, X_test, y_train, y_test = train_test_split(X, y, test_size=0.3)"
   ]
  },
  {
   "cell_type": "code",
   "execution_count": 5,
   "metadata": {},
   "outputs": [
    {
     "name": "stdout",
     "output_type": "stream",
     "text": [
      "Training set balanced: True\n",
      "Testing set balanced: True\n"
     ]
    }
   ],
   "source": [
    "# Check if classes are balanced\n",
    "import numpy as np\n",
    "\n",
    "# Assuming y_train and y_test are NumPy arrays\n",
    "train_class_counts = np.unique(y_train, return_counts=True)[1]\n",
    "test_class_counts = np.unique(y_test, return_counts=True)[1]\n",
    "\n",
    "# Check if classes are balanced in the training set\n",
    "is_train_balanced = np.min(train_class_counts) / np.max(train_class_counts) >= 0.9\n",
    "\n",
    "# Check if classes are balanced in the testing set\n",
    "is_test_balanced = np.min(test_class_counts) / np.max(test_class_counts) >= 0.9\n",
    "\n",
    "# Print the result\n",
    "print(\"Training set balanced:\", is_train_balanced)\n",
    "print(\"Testing set balanced:\", is_test_balanced)"
   ]
  },
  {
   "cell_type": "code",
   "execution_count": 6,
   "metadata": {},
   "outputs": [
    {
     "name": "stdout",
     "output_type": "stream",
     "text": [
      "305/305 [==============================] - 1s 2ms/step - loss: 0.0046 - accuracy: 0.9989\n",
      "Metrics on training set for run 1: loss=0.0045893872156739235, accuracy=0.9988729357719421\n",
      "131/131 [==============================] - 0s 2ms/step - loss: 0.0147 - accuracy: 0.9969\n",
      "Metrics on test set for run 1: loss=0.014695274643599987, accuracy=0.9968929290771484\n",
      "305/305 [==============================] - 0s 1ms/step - loss: 0.0691 - accuracy: 0.9759\n",
      "Metrics on training set for run 2: loss=0.06913544982671738, accuracy=0.9759221076965332\n",
      "131/131 [==============================] - 0s 2ms/step - loss: 0.0793 - accuracy: 0.9771\n",
      "Metrics on test set for run 2: loss=0.07927859574556351, accuracy=0.9770554304122925\n",
      "305/305 [==============================] - 0s 1ms/step - loss: 0.0103 - accuracy: 0.9969\n",
      "Metrics on training set for run 3: loss=0.010341150686144829, accuracy=0.9969262480735779\n",
      "131/131 [==============================] - 0s 2ms/step - loss: 0.0300 - accuracy: 0.9926\n",
      "Metrics on test set for run 3: loss=0.030028579756617546, accuracy=0.9925908446311951\n",
      "305/305 [==============================] - 0s 1ms/step - loss: 5.3059e-05 - accuracy: 1.0000\n",
      "Metrics on training set for run 4: loss=5.3059229685459286e-05, accuracy=1.0\n",
      "131/131 [==============================] - 0s 2ms/step - loss: 0.0130 - accuracy: 0.9974\n",
      "Metrics on test set for run 4: loss=0.01295286975800991, accuracy=0.9973709583282471\n",
      "305/305 [==============================] - 0s 2ms/step - loss: 2.0850e-06 - accuracy: 1.0000\n",
      "Metrics on training set for run 5: loss=2.084972948068753e-06, accuracy=1.0\n",
      "131/131 [==============================] - 0s 2ms/step - loss: 0.0170 - accuracy: 0.9976\n",
      "Metrics on test set for run 5: loss=0.01702198013663292, accuracy=0.9976099133491516\n",
      "train mean accuracy =  0.9943442583084107\n",
      "train std accuracy  =  0.00927928932674035\n",
      "test mean accuracy =  0.9943442583084107\n",
      "test std accuracy  =  0.00927928932674035\n"
     ]
    }
   ],
   "source": [
    "#Creating the model\n",
    "model = tf.keras.models.Sequential([\n",
    "    tf.keras.layers.Conv2D(64,(3,3) ,input_shape = (11,11,3),activation = 'relu'),  \n",
    "    tf.keras.layers.MaxPooling2D((2,2)),\n",
    "    tf.keras.layers.Conv2D(32,(3,3) ,activation = 'relu'),\n",
    "    tf.keras.layers.MaxPooling2D((2,2)),\n",
    "    \n",
    "    tf.keras.layers.Flatten(),\n",
    "    tf.keras.layers.Dense(32,activation = 'relu'),\n",
    "    tf.keras.layers.Dense(1,activation = 'sigmoid')\n",
    "])\n",
    "\n",
    "# Compile the model\n",
    "model.compile(optimizer='adam',\n",
    "              loss='binary_crossentropy',\n",
    "              metrics=['accuracy'])\n",
    "\n",
    "train_acc = []\n",
    "train_mean_acc = []\n",
    "train_std_acc = []\n",
    "\n",
    "test_acc = []\n",
    "test_mean_acc = []\n",
    "test_std_acc = []\n",
    "\n",
    "for rep in range(5):\n",
    "    model.fit(X_train, y_train, epochs=20, batch_size=50,verbose=False)\n",
    "    results = model.evaluate(X_train, y_train)\n",
    "    print(f\"Metrics on training set for run {rep+1}: loss={results[0]}, accuracy={results[1]}\" )\n",
    "    train_acc.append(results[1])\n",
    "    train_mean_acc.append(np.mean(train_acc))\n",
    "    train_std_acc.append(np.std(train_acc))\n",
    "\n",
    "    results_test = model.evaluate(X_test, y_test)\n",
    "    print(f\"Metrics on test set for run {rep+1}: loss={results_test[0]}, accuracy={results_test[1]}\" )\n",
    "    test_acc.append(results[1])\n",
    "    test_mean_acc.append(np.mean(test_acc))\n",
    "    test_std_acc.append(np.std(test_acc))\n",
    "\n",
    "\n",
    "print('train mean accuracy = ', np.mean(train_acc))\n",
    "print('train std accuracy  = ', np.std(train_acc))\n",
    "print('test mean accuracy = ', np.mean(test_acc))\n",
    "print('test std accuracy  = ', np.std(test_acc))"
   ]
  },
  {
   "cell_type": "code",
   "execution_count": 7,
   "metadata": {},
   "outputs": [
    {
     "data": {
      "image/png": "[encoded data removed]",
      "text/plain": [
       "<Figure size 640x480 with 1 Axes>"
      ]
     },
     "metadata": {},
     "output_type": "display_data"
    }
   ],
   "source": [
    "fig, ax = plt.subplots()\n",
    "ax.errorbar(range(5), train_mean_acc, train_std_acc)\n",
    "plt.xlabel('Iterations')\n",
    "plt.ylabel('Acc')\n",
    "plt.grid()\n",
    "plt.show()"
   ]
  },
  {
   "attachments": {},
   "cell_type": "markdown",
   "metadata": {},
   "source": [
    "## Metrics"
   ]
  },
  {
   "cell_type": "code",
   "execution_count": 8,
   "metadata": {},
   "outputs": [
    {
     "name": "stdout",
     "output_type": "stream",
     "text": [
      "305/305 [==============================] - 0s 1ms/step\n",
      "Training Accuracy: 1.0\n",
      "Training Precision: 1.0\n",
      "Training Recall: 1.0\n",
      "Training F1-Score: 1.0\n",
      "Training Confusion Matrix:\n",
      "[[4902    0]\n",
      " [   0 4858]]\n"
     ]
    }
   ],
   "source": [
    "import numpy as np\n",
    "from sklearn.metrics import accuracy_score, precision_score, recall_score, f1_score, confusion_matrix\n",
    "\n",
    "# Assuming you have trained the Sequential model and have X_train, y_train\n",
    "\n",
    "# Predict labels for training data\n",
    "y_train_pred = model.predict(X_train)\n",
    "y_train_pred = (y_train_pred >= 0.5).astype(int)\n",
    "\n",
    "# Calculate metrics\n",
    "train_accuracy = accuracy_score(y_train, y_train_pred)\n",
    "train_precision = precision_score(y_train, y_train_pred, average='weighted')\n",
    "train_recall = recall_score(y_train, y_train_pred, average='weighted')\n",
    "train_f1 = f1_score(y_train, y_train_pred, average='weighted')\n",
    "train_cm = confusion_matrix(y_train, y_train_pred)\n",
    "\n",
    "# Print the results\n",
    "print(\"Training Accuracy:\", train_accuracy)\n",
    "print(\"Training Precision:\", train_precision)\n",
    "print(\"Training Recall:\", train_recall)\n",
    "print(\"Training F1-Score:\", train_f1)\n",
    "print(\"Training Confusion Matrix:\")\n",
    "print(train_cm)"
   ]
  },
  {
   "cell_type": "code",
   "execution_count": 9,
   "metadata": {},
   "outputs": [
    {
     "name": "stdout",
     "output_type": "stream",
     "text": [
      "131/131 [==============================] - 0s 1ms/step\n",
      "Testing Accuracy: 0.9976099426386233\n",
      "Testing Precision: 0.9976099426386233\n",
      "Testing Recall: 0.9976099426386233\n",
      "Testing F1-Score: 0.9976099426386233\n",
      "Testing Confusion Matrix:\n",
      "[[2065    5]\n",
      " [   5 2109]]\n"
     ]
    }
   ],
   "source": [
    "import numpy as np\n",
    "from sklearn.metrics import accuracy_score, precision_score, recall_score, f1_score, confusion_matrix\n",
    "\n",
    "# Assuming you have trained the Sequential model and have X_test, y_test\n",
    "\n",
    "# Predict labels for test data\n",
    "y_test_pred = model.predict(X_test)\n",
    "y_test_pred = (y_test_pred >= 0.5).astype(int)\n",
    "\n",
    "# Calculate metrics\n",
    "test_accuracy = accuracy_score(y_test, y_test_pred)\n",
    "test_precision = precision_score(y_test, y_test_pred, average='weighted')\n",
    "test_recall = recall_score(y_test, y_test_pred, average='weighted')\n",
    "test_f1 = f1_score(y_test, y_test_pred, average='weighted')\n",
    "test_cm = confusion_matrix(y_test, y_test_pred)\n",
    "\n",
    "# Print the results\n",
    "print(\"Testing Accuracy:\", test_accuracy)\n",
    "print(\"Testing Precision:\", test_precision)\n",
    "print(\"Testing Recall:\", test_recall)\n",
    "print(\"Testing F1-Score:\", test_f1)\n",
    "print(\"Testing Confusion Matrix:\")\n",
    "print(test_cm)"
   ]
  },
  {
   "cell_type": "code",
   "execution_count": 10,
   "metadata": {},
   "outputs": [
    {
     "name": "stdout",
     "output_type": "stream",
     "text": [
      "131/131 [==============================] - 0s 2ms/step - loss: 0.0170 - accuracy: 0.9976\n",
      "Test accuracy: 0.9976099133491516\n"
     ]
    }
   ],
   "source": [
    "test_loss, test_acc = model.evaluate(X_test, y_test)\n",
    "print('Test accuracy:', test_acc)"
   ]
  },
  {
   "cell_type": "code",
   "execution_count": 11,
   "metadata": {},
   "outputs": [
    {
     "name": "stdout",
     "output_type": "stream",
     "text": [
      "131/131 [==============================] - 0s 2ms/step\n"
     ]
    },
    {
     "data": {
      "image/png": "[encoded data removed]",
      "text/plain": [
       "<Figure size 640x480 with 2 Axes>"
      ]
     },
     "metadata": {},
     "output_type": "display_data"
    }
   ],
   "source": [
    "# Supposez que vous avez entraîné votre modèle et obtenu les prédictions sur l'ensemble de test\n",
    "y_pred = model.predict(X_test)\n",
    "\n",
    "y_pred_binary = (y_pred >= 0.5).astype(int)\n",
    "\n",
    "# Créer la matrice de confusion\n",
    "confusion_matrix = confusion_matrix(y_test, y_pred_binary)\n",
    "\n",
    "# Définir les étiquettes de classe\n",
    "class_labels = ['Varroa', 'Non-varroa']  # Remplacez les noms des classes par les vôtres\n",
    "\n",
    "# Créer une heatmap de la matrice de confusion\n",
    "sns.heatmap(confusion_matrix, annot=True, cmap='Blues', fmt='d', xticklabels=class_labels, yticklabels=class_labels)\n",
    "\n",
    "# Ajouter des étiquettes d'axe et un titre\n",
    "plt.xlabel('Prédictions')\n",
    "plt.ylabel('Vraies étiquettes')\n",
    "plt.title('Matrice de confusion')\n",
    "\n",
    "# Afficher la figure\n",
    "plt.show()\n",
    "\n",
    "\n"
   ]
  }
 ],
 "metadata": {
  "kernelspec": {
   "display_name": "Python 3",
   "language": "python",
   "name": "python3"
  },
  "language_info": {
   "codemirror_mode": {
    "name": "ipython",
    "version": 3
   },
   "file_extension": ".py",
   "mimetype": "text/x-python",
   "name": "python",
   "nbconvert_exporter": "python",
   "pygments_lexer": "ipython3",
   "version": "3.11.2"
  },
  "orig_nbformat": 4
 },
 "nbformat": 4,
 "nbformat_minor": 2
}
