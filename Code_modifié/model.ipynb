{
 "cells": [
  {
   "cell_type": "code",
   "execution_count": 1,
   "metadata": {},
   "outputs": [],
   "source": [
    "import numpy as np\n",
    "import matplotlib.pyplot as plt\n",
    "import os\n",
    "import pandas as pd\n",
    "import cv2\n",
    "from sklearn.model_selection import train_test_split\n",
    "import tensorflow as tf"
   ]
  },
  {
   "cell_type": "code",
   "execution_count": 2,
   "metadata": {},
   "outputs": [],
   "source": [
    "dir1 = \"base/varroas_crop_20\"\n",
    "dir2 = \"base/non_varroas_crop_20\"\n",
    "\n",
    "IMG_WIDTH = 20  # Largeur souhaitée de l'image\n",
    "IMG_HEIGHT = 20  # Hauteur souhaitée de l'image\n",
    "\n",
    "X = []\n",
    "y = []\n",
    "\n",
    "# Parcourir le premier répertoire\n",
    "for filename in os.listdir(dir1):\n",
    "    img_path = os.path.join(dir1, filename)\n",
    "    img = cv2.imread(img_path)\n",
    "    img = cv2.resize(img, (IMG_WIDTH, IMG_HEIGHT))  # Redimensionner l'image\n",
    "    # Effectuez ici d'autres traitements sur l'image si nécessaire\n",
    "    X.append(img)\n",
    "    y.append(0)  # 0 pour le premier répertoire\n",
    "\n",
    "# Parcourir le deuxième répertoire\n",
    "for filename in os.listdir(dir2):\n",
    "    img_path = os.path.join(dir2, filename)\n",
    "    img = cv2.imread(img_path)\n",
    "    img = cv2.resize(img, (IMG_WIDTH, IMG_HEIGHT))  # Redimensionner l'image\n",
    "    # Effectuez ici d'autres traitements sur l'image si nécessaire\n",
    "    X.append(img)\n",
    "    y.append(1)  # 1 pour le deuxième répertoire\n",
    "\n",
    "X = np.array(X)\n",
    "y = np.array(y)\n",
    "\n",
    "X_train, X_test, y_train, y_test = train_test_split(X, y, test_size=0.3)\n",
    "\n",
    "#image = X_train[2]\n",
    "# Afficher l'image redimensionnée\n",
    "#cv2.imshow(\"Image redimensionnée\", image)\n",
    "\n",
    "\n"
   ]
  },
  {
   "cell_type": "code",
   "execution_count": 3,
   "metadata": {},
   "outputs": [
    {
     "name": "stdout",
     "output_type": "stream",
     "text": [
      "Epoch 1/10\n",
      "153/153 [==============================] - 5s 21ms/step - loss: 1.9853 - accuracy: 0.7654\n",
      "Epoch 2/10\n",
      "153/153 [==============================] - 3s 23ms/step - loss: 0.4668 - accuracy: 0.8175\n",
      "Epoch 3/10\n",
      "153/153 [==============================] - 3s 19ms/step - loss: 0.3823 - accuracy: 0.8427\n",
      "Epoch 4/10\n",
      "153/153 [==============================] - 3s 19ms/step - loss: 0.3557 - accuracy: 0.8572\n",
      "Epoch 5/10\n",
      "153/153 [==============================] - 3s 19ms/step - loss: 0.3394 - accuracy: 0.8607\n",
      "Epoch 6/10\n",
      "153/153 [==============================] - 3s 21ms/step - loss: 0.3288 - accuracy: 0.8670\n",
      "Epoch 7/10\n",
      "153/153 [==============================] - 3s 20ms/step - loss: 0.3061 - accuracy: 0.8821\n",
      "Epoch 8/10\n",
      "153/153 [==============================] - 3s 18ms/step - loss: 0.3083 - accuracy: 0.8740\n",
      "Epoch 9/10\n",
      "153/153 [==============================] - 3s 18ms/step - loss: 0.2961 - accuracy: 0.8850\n",
      "Epoch 10/10\n",
      "153/153 [==============================] - 3s 18ms/step - loss: 0.2892 - accuracy: 0.8858\n"
     ]
    },
    {
     "data": {
      "text/plain": [
       "<keras.callbacks.History at 0x1aef9e9e950>"
      ]
     },
     "execution_count": 3,
     "metadata": {},
     "output_type": "execute_result"
    }
   ],
   "source": [
    "\n",
    "model = tf.keras.models.Sequential([\n",
    "    tf.keras.layers.Conv2D(64,(3,3) ,input_shape = (20,20,3),activation = 'relu'),  \n",
    "    tf.keras.layers.MaxPooling2D((2,2)),\n",
    "    tf.keras.layers.Conv2D(32,(3,3) ,activation = 'relu'),\n",
    "    tf.keras.layers.MaxPooling2D((2,2)),\n",
    "    \n",
    "    tf.keras.layers.Flatten(),\n",
    "    tf.keras.layers.Dense(32,activation = 'relu'),\n",
    "    tf.keras.layers.Dense(1,activation = 'sigmoid')\n",
    "])\n",
    "\n",
    "# Compile the model\n",
    "model.compile(optimizer='adam',\n",
    "              loss='binary_crossentropy',\n",
    "              metrics=['accuracy'])\n",
    "\n",
    "model.fit(X_train, y_train, epochs=50, batch_size=50)\n"
   ]
  },
  {
   "cell_type": "code",
   "execution_count": 6,
   "metadata": {},
   "outputs": [
    {
     "name": "stdout",
     "output_type": "stream",
     "text": [
      "103/103 [==============================] - 0s 4ms/step - loss: 0.3066 - accuracy: 0.8760\n",
      "Test accuracy: 0.8759950995445251\n"
     ]
    }
   ],
   "source": [
    "test_loss, test_acc = model.evaluate(X_test, y_test)\n",
    "print('Test accuracy:', test_acc)"
   ]
  }
 ],
 "metadata": {
  "kernelspec": {
   "display_name": "Python 3",
   "language": "python",
   "name": "python3"
  },
  "language_info": {
   "codemirror_mode": {
    "name": "ipython",
    "version": 3
   },
   "file_extension": ".py",
   "mimetype": "text/x-python",
   "name": "python",
   "nbconvert_exporter": "python",
   "pygments_lexer": "ipython3",
   "version": "3.11.2"
  },
  "orig_nbformat": 4
 },
 "nbformat": 4,
 "nbformat_minor": 2
}
