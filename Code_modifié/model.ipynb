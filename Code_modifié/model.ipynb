{
 "cells": [
  {
   "cell_type": "code",
   "execution_count": 1,
   "metadata": {},
   "outputs": [],
   "source": [
    "import numpy as np\n",
    "import matplotlib.pyplot as plt\n",
    "import os\n",
    "import pandas as pd\n",
    "import cv2\n",
    "from sklearn.model_selection import train_test_split\n",
    "import tensorflow as tf"
   ]
  },
  {
   "cell_type": "code",
   "execution_count": 2,
   "metadata": {},
   "outputs": [],
   "source": [
    "dir1 = \"base/varroas\"\n",
    "dir2 = \"base/non_varroas\"\n",
    "\n",
    "IMG_WIDTH = 100  # Largeur souhaitée de l'image\n",
    "IMG_HEIGHT = 100  # Hauteur souhaitée de l'image\n",
    "\n",
    "X = []\n",
    "y = []\n",
    "\n",
    "# Parcourir le premier répertoire\n",
    "for filename in os.listdir(dir1):\n",
    "    img_path = os.path.join(dir1, filename)\n",
    "    img = cv2.imread(img_path)\n",
    "    img = cv2.resize(img, (IMG_WIDTH, IMG_HEIGHT))  # Redimensionner l'image\n",
    "    # Effectuez ici d'autres traitements sur l'image si nécessaire\n",
    "    X.append(img)\n",
    "    y.append(0)  # 0 pour le premier répertoire\n",
    "\n",
    "# Parcourir le deuxième répertoire\n",
    "for filename in os.listdir(dir2):\n",
    "    img_path = os.path.join(dir2, filename)\n",
    "    img = cv2.imread(img_path)\n",
    "    img = cv2.resize(img, (IMG_WIDTH, IMG_HEIGHT))  # Redimensionner l'image\n",
    "    # Effectuez ici d'autres traitements sur l'image si nécessaire\n",
    "    X.append(img)\n",
    "    y.append(1)  # 1 pour le deuxième répertoire\n",
    "\n",
    "X = np.array(X)\n",
    "y = np.array(y)\n",
    "\n",
    "X_train, X_test, y_train, y_test = train_test_split(X, y, test_size=0.3, random_state=42)\n",
    "\n",
    "#image = X_train[2]\n",
    "# Afficher l'image redimensionnée\n",
    "#cv2.imshow(\"Image redimensionnée\", image)\n",
    "\n",
    "\n"
   ]
  },
  {
   "cell_type": "code",
   "execution_count": 4,
   "metadata": {},
   "outputs": [
    {
     "name": "stdout",
     "output_type": "stream",
     "text": [
      "Epoch 1/10\n",
      "32/32 [==============================] - 8s 193ms/step - loss: 4.3430 - accuracy: 0.6183\n",
      "Epoch 2/10\n",
      "32/32 [==============================] - 6s 191ms/step - loss: 0.5283 - accuracy: 0.7271\n",
      "Epoch 3/10\n",
      "32/32 [==============================] - 6s 191ms/step - loss: 0.4828 - accuracy: 0.7666\n",
      "Epoch 4/10\n",
      "32/32 [==============================] - 6s 191ms/step - loss: 0.3709 - accuracy: 0.8549\n",
      "Epoch 5/10\n",
      "32/32 [==============================] - 6s 190ms/step - loss: 0.3403 - accuracy: 0.8438\n",
      "Epoch 6/10\n",
      "32/32 [==============================] - 6s 194ms/step - loss: 0.3353 - accuracy: 0.8391\n",
      "Epoch 7/10\n",
      "32/32 [==============================] - 6s 194ms/step - loss: 0.3020 - accuracy: 0.8770\n",
      "Epoch 8/10\n",
      "32/32 [==============================] - 6s 188ms/step - loss: 0.2765 - accuracy: 0.8785\n",
      "Epoch 9/10\n",
      "32/32 [==============================] - 6s 195ms/step - loss: 0.2380 - accuracy: 0.9085\n",
      "Epoch 10/10\n",
      "32/32 [==============================] - 7s 212ms/step - loss: 0.2802 - accuracy: 0.8707\n"
     ]
    },
    {
     "data": {
      "text/plain": [
       "<keras.callbacks.History at 0x26faf89d3d0>"
      ]
     },
     "execution_count": 4,
     "metadata": {},
     "output_type": "execute_result"
    }
   ],
   "source": [
    "\n",
    "model = tf.keras.models.Sequential([\n",
    "    tf.keras.layers.Conv2D(32,(3,3) ,input_shape = (100,100,3),activation = 'relu'),\n",
    "    tf.keras.layers.MaxPooling2D((2,2)),\n",
    "    tf.keras.layers.Conv2D(64,(3,3) ,activation = 'relu'),\n",
    "    tf.keras.layers.MaxPooling2D((2,2)),\n",
    "    tf.keras.layers.Conv2D(128,(3,3) ,activation = 'relu'),\n",
    "    tf.keras.layers.MaxPooling2D((2,2)),\n",
    "    tf.keras.layers.Conv2D(128,(3,3),activation = 'relu'),\n",
    "    tf.keras.layers.MaxPooling2D((2,2)),\n",
    "    \n",
    "    tf.keras.layers.Flatten(),\n",
    "    tf.keras.layers.Dense(512,activation = 'relu'),\n",
    "    tf.keras.layers.Dense(1,activation = 'sigmoid')\n",
    "])\n",
    "\n",
    "# Compile the model\n",
    "model.compile(optimizer='adam',\n",
    "              loss='binary_crossentropy',\n",
    "              metrics=['accuracy'])\n",
    "\n",
    "model.fit(X_train, y_train, epochs=10, batch_size=20)\n"
   ]
  },
  {
   "cell_type": "code",
   "execution_count": 5,
   "metadata": {},
   "outputs": [
    {
     "name": "stdout",
     "output_type": "stream",
     "text": [
      "9/9 [==============================] - 1s 62ms/step - loss: 0.2599 - accuracy: 0.8938\n",
      "Test accuracy: 0.8937729001045227\n"
     ]
    }
   ],
   "source": [
    "test_loss, test_acc = model.evaluate(X_test, y_test)\n",
    "print('Test accuracy:', test_acc)"
   ]
  }
 ],
 "metadata": {
  "kernelspec": {
   "display_name": "Python 3",
   "language": "python",
   "name": "python3"
  },
  "language_info": {
   "codemirror_mode": {
    "name": "ipython",
    "version": 3
   },
   "file_extension": ".py",
   "mimetype": "text/x-python",
   "name": "python",
   "nbconvert_exporter": "python",
   "pygments_lexer": "ipython3",
   "version": "3.11.2"
  },
  "orig_nbformat": 4
 },
 "nbformat": 4,
 "nbformat_minor": 2
}
