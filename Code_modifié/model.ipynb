{
 "cells": [
  {
   "cell_type": "code",
   "execution_count": 2,
   "metadata": {},
   "outputs": [],
   "source": [
    "import numpy as np\n",
    "import matplotlib.pyplot as plt\n",
    "import os\n",
    "import pandas as pd\n",
    "import cv2\n",
    "from sklearn.model_selection import train_test_split\n",
    "import tensorflow as tf\n",
    "from sklearn.metrics import confusion_matrix\n",
    "import seaborn as sns\n",
    "from sklearn.linear_model import LogisticRegression\n",
    "from sklearn.metrics import roc_curve\n",
    "from sklearn.metrics import roc_auc_score\n",
    "from matplotlib import pyplot"
   ]
  },
  {
   "cell_type": "code",
   "execution_count": 3,
   "metadata": {},
   "outputs": [
    {
     "name": "stdout",
     "output_type": "stream",
     "text": [
      "[0 0 0 ... 1 1 1]\n"
     ]
    }
   ],
   "source": [
    "# Chemins vers les dossiers contenant les images\n",
    "varroas_folder = \"base/varroas_crop_20/\"\n",
    "non_varroas_folder = \"base/non_varroas_crop_20/\"\n",
    "#varroas_folder = \"D:/base/varroas_crop_20/\"\n",
    "#non_varroas_folder = \"D:/base/non_varroas_crop_20/\"\n",
    "\n",
    "\n",
    "# Récupération des chemins des images dans chaque dossier\n",
    "varroas_images = [os.path.join(varroas_folder, image_file) for image_file in os.listdir(varroas_folder)]\n",
    "non_varroas_images = [os.path.join(non_varroas_folder, image_file) for image_file in os.listdir(non_varroas_folder)]\n",
    "\n",
    "# Labels correspondants pour chaque classe\n",
    "varroas_labels = [0] * len(varroas_images)  # Classe 0 pour les varroas\n",
    "non_varroas_labels = [1] * len(non_varroas_images)  # Classe 1 pour les non-varroas\n",
    "\n",
    "# Concaténation des données et des labels\n",
    "images = varroas_images + non_varroas_images\n",
    "labels = varroas_labels + non_varroas_labels\n",
    "\n",
    "# Convertir les images en tableaux et les redimensionner si nécessaire\n",
    "resized_images = []\n",
    "for image_path in images:\n",
    "    image = cv2.imread(image_path)\n",
    "    resized_image = cv2.resize(image, (11, 11))  # dimensions souhaitées\n",
    "    resized_images.append(resized_image)\n",
    "\n",
    "# Convertir la liste en tableau numpy\n",
    "X = np.array(resized_images)\n",
    "y = np.array(labels)\n",
    "print(y)\n",
    "# Division des données en ensembles d'entraînement et de test\n",
    "X_train, X_test, y_train, y_test = train_test_split(X, y, test_size=0.3)"
   ]
  },
  {
   "cell_type": "code",
   "execution_count": 4,
   "metadata": {},
   "outputs": [
    {
     "name": "stdout",
     "output_type": "stream",
     "text": [
      "Training set balanced: True\n",
      "Testing set balanced: True\n"
     ]
    }
   ],
   "source": [
    "# Check if classes are balanced\n",
    "import numpy as np\n",
    "\n",
    "# Assuming y_train and y_test are NumPy arrays\n",
    "train_class_counts = np.unique(y_train, return_counts=True)[1]\n",
    "test_class_counts = np.unique(y_test, return_counts=True)[1]\n",
    "\n",
    "# Check if classes are balanced in the training set\n",
    "is_train_balanced = np.min(train_class_counts) / np.max(train_class_counts) >= 0.9\n",
    "\n",
    "# Check if classes are balanced in the testing set\n",
    "is_test_balanced = np.min(test_class_counts) / np.max(test_class_counts) >= 0.9\n",
    "\n",
    "# Print the result\n",
    "print(\"Training set balanced:\", is_train_balanced)\n",
    "print(\"Testing set balanced:\", is_test_balanced)"
   ]
  },
  {
   "cell_type": "code",
   "execution_count": 32,
   "metadata": {},
   "outputs": [
    {
     "name": "stdout",
     "output_type": "stream",
     "text": [
      "Epoch 1/10\n"
     ]
    },
    {
     "name": "stderr",
     "output_type": "stream",
     "text": [
      "C:\\Users\\mdesp\\AppData\\Local\\Temp\\ipykernel_8568\\4107177022.py:23: DeprecationWarning: KerasClassifier is deprecated, use Sci-Keras (https://github.com/adriangb/scikeras) instead. See https://www.adriangb.com/scikeras/stable/migration.html for help migrating.\n",
      "  model = KerasClassifier(build_fn=buildModel, verbose=1)\n"
     ]
    },
    {
     "name": "stdout",
     "output_type": "stream",
     "text": [
      "98/98 [==============================] - 2s 10ms/step - loss: 0.6728 - accuracy: 0.9106\n",
      "Epoch 2/10\n",
      "98/98 [==============================] - 1s 10ms/step - loss: 0.0959 - accuracy: 0.9671\n",
      "Epoch 3/10\n",
      "98/98 [==============================] - 1s 8ms/step - loss: 0.0329 - accuracy: 0.9886\n",
      "Epoch 4/10\n",
      "98/98 [==============================] - 1s 8ms/step - loss: 0.0266 - accuracy: 0.9917\n",
      "Epoch 5/10\n",
      "98/98 [==============================] - 1s 8ms/step - loss: 0.0211 - accuracy: 0.9928\n",
      "Epoch 6/10\n",
      "98/98 [==============================] - 1s 7ms/step - loss: 0.0186 - accuracy: 0.9940\n",
      "Epoch 7/10\n",
      "98/98 [==============================] - 1s 7ms/step - loss: 0.0196 - accuracy: 0.9937\n",
      "Epoch 8/10\n",
      "98/98 [==============================] - 1s 8ms/step - loss: 0.0333 - accuracy: 0.9885\n",
      "Epoch 9/10\n",
      "98/98 [==============================] - 1s 7ms/step - loss: 0.0143 - accuracy: 0.9955\n",
      "Epoch 10/10\n",
      "98/98 [==============================] - 1s 7ms/step - loss: 0.0095 - accuracy: 0.9971\n",
      "25/25 [==============================] - 0s 3ms/step - loss: 0.0092 - accuracy: 0.9980\n",
      "Epoch 1/10\n",
      "98/98 [==============================] - 2s 8ms/step - loss: 0.6013 - accuracy: 0.8893\n",
      "Epoch 2/10\n",
      "98/98 [==============================] - 1s 7ms/step - loss: 0.0600 - accuracy: 0.9791\n",
      "Epoch 3/10\n",
      "98/98 [==============================] - 1s 8ms/step - loss: 0.0421 - accuracy: 0.9857\n",
      "Epoch 4/10\n",
      "98/98 [==============================] - 1s 7ms/step - loss: 0.0435 - accuracy: 0.9837\n",
      "Epoch 5/10\n",
      "98/98 [==============================] - 1s 7ms/step - loss: 0.0233 - accuracy: 0.9930\n",
      "Epoch 6/10\n",
      "98/98 [==============================] - 1s 11ms/step - loss: 0.0381 - accuracy: 0.9858\n",
      "Epoch 7/10\n",
      "98/98 [==============================] - 1s 9ms/step - loss: 0.0219 - accuracy: 0.9931\n",
      "Epoch 8/10\n",
      "98/98 [==============================] - 1s 13ms/step - loss: 0.0129 - accuracy: 0.9962\n",
      "Epoch 9/10\n",
      "98/98 [==============================] - 1s 10ms/step - loss: 0.0123 - accuracy: 0.9965\n",
      "Epoch 10/10\n",
      "98/98 [==============================] - 1s 8ms/step - loss: 0.0096 - accuracy: 0.9972\n",
      "25/25 [==============================] - 0s 4ms/step - loss: 0.0189 - accuracy: 0.9949\n",
      "Epoch 1/10\n",
      "98/98 [==============================] - 2s 8ms/step - loss: 0.6167 - accuracy: 0.8966\n",
      "Epoch 2/10\n",
      "98/98 [==============================] - 1s 8ms/step - loss: 0.0638 - accuracy: 0.9801\n",
      "Epoch 3/10\n",
      "98/98 [==============================] - 1s 8ms/step - loss: 0.0439 - accuracy: 0.9857\n",
      "Epoch 4/10\n",
      "98/98 [==============================] - 1s 8ms/step - loss: 0.0329 - accuracy: 0.9892\n",
      "Epoch 5/10\n",
      "98/98 [==============================] - 1s 8ms/step - loss: 0.0290 - accuracy: 0.9914\n",
      "Epoch 6/10\n",
      "98/98 [==============================] - 1s 12ms/step - loss: 0.0268 - accuracy: 0.9917\n",
      "Epoch 7/10\n",
      "98/98 [==============================] - 1s 9ms/step - loss: 0.0228 - accuracy: 0.9924\n",
      "Epoch 8/10\n",
      "98/98 [==============================] - 1s 8ms/step - loss: 0.0322 - accuracy: 0.9891\n",
      "Epoch 9/10\n",
      "98/98 [==============================] - 1s 9ms/step - loss: 0.0187 - accuracy: 0.9937\n",
      "Epoch 10/10\n",
      "98/98 [==============================] - 1s 9ms/step - loss: 0.0145 - accuracy: 0.9947\n",
      "25/25 [==============================] - 0s 3ms/step - loss: 0.0218 - accuracy: 0.9928\n",
      "Epoch 1/10\n",
      "98/98 [==============================] - 2s 8ms/step - loss: 1.0140 - accuracy: 0.8555\n",
      "Epoch 2/10\n",
      "98/98 [==============================] - 1s 9ms/step - loss: 0.0757 - accuracy: 0.9753\n",
      "Epoch 3/10\n",
      "98/98 [==============================] - 1s 9ms/step - loss: 0.0541 - accuracy: 0.9830\n",
      "Epoch 4/10\n",
      "98/98 [==============================] - 1s 9ms/step - loss: 0.0356 - accuracy: 0.9874\n",
      "Epoch 5/10\n",
      "98/98 [==============================] - 1s 8ms/step - loss: 0.0430 - accuracy: 0.9851\n",
      "Epoch 6/10\n",
      "98/98 [==============================] - 1s 8ms/step - loss: 0.0304 - accuracy: 0.9895\n",
      "Epoch 7/10\n",
      "98/98 [==============================] - 1s 8ms/step - loss: 0.0229 - accuracy: 0.9924\n",
      "Epoch 8/10\n",
      "98/98 [==============================] - 1s 8ms/step - loss: 0.0249 - accuracy: 0.9904\n",
      "Epoch 9/10\n",
      "98/98 [==============================] - 1s 7ms/step - loss: 0.0194 - accuracy: 0.9933\n",
      "Epoch 10/10\n",
      "98/98 [==============================] - 1s 8ms/step - loss: 0.0307 - accuracy: 0.9894\n",
      "25/25 [==============================] - 0s 4ms/step - loss: 0.0294 - accuracy: 0.9908\n",
      "Epoch 1/10\n",
      "98/98 [==============================] - 2s 9ms/step - loss: 0.3825 - accuracy: 0.8975\n",
      "Epoch 2/10\n",
      "98/98 [==============================] - 1s 11ms/step - loss: 0.0661 - accuracy: 0.9771\n",
      "Epoch 3/10\n",
      "98/98 [==============================] - 1s 11ms/step - loss: 0.0514 - accuracy: 0.9830\n",
      "Epoch 4/10\n",
      "98/98 [==============================] - 1s 9ms/step - loss: 0.0331 - accuracy: 0.9895\n",
      "Epoch 5/10\n",
      "98/98 [==============================] - 1s 9ms/step - loss: 0.0416 - accuracy: 0.9844\n",
      "Epoch 6/10\n",
      "98/98 [==============================] - 1s 9ms/step - loss: 0.0430 - accuracy: 0.9846\n",
      "Epoch 7/10\n",
      "98/98 [==============================] - 1s 10ms/step - loss: 0.0197 - accuracy: 0.9946\n",
      "Epoch 8/10\n",
      "98/98 [==============================] - 1s 9ms/step - loss: 0.0210 - accuracy: 0.9928\n",
      "Epoch 9/10\n",
      "98/98 [==============================] - 1s 9ms/step - loss: 0.0206 - accuracy: 0.9928\n",
      "Epoch 10/10\n",
      "98/98 [==============================] - 1s 9ms/step - loss: 0.0190 - accuracy: 0.9933\n",
      "25/25 [==============================] - 0s 3ms/step - loss: 0.0292 - accuracy: 0.9908\n",
      "Epoch 1/10\n",
      "87/87 [==============================] - 2s 8ms/step - loss: 0.4910 - accuracy: 0.8940\n",
      "Epoch 2/10\n",
      "87/87 [==============================] - 1s 8ms/step - loss: 0.0497 - accuracy: 0.9830\n",
      "Epoch 3/10\n",
      "87/87 [==============================] - 1s 8ms/step - loss: 0.0457 - accuracy: 0.9854\n",
      "Epoch 4/10\n",
      "87/87 [==============================] - 1s 8ms/step - loss: 0.0334 - accuracy: 0.9869\n",
      "Epoch 5/10\n",
      "87/87 [==============================] - 1s 7ms/step - loss: 0.0192 - accuracy: 0.9930\n",
      "Epoch 6/10\n",
      "87/87 [==============================] - 1s 8ms/step - loss: 0.0247 - accuracy: 0.9914\n",
      "Epoch 7/10\n",
      "87/87 [==============================] - 1s 8ms/step - loss: 0.0268 - accuracy: 0.9901\n",
      "Epoch 8/10\n",
      "87/87 [==============================] - 1s 8ms/step - loss: 0.0130 - accuracy: 0.9962\n",
      "Epoch 9/10\n",
      "87/87 [==============================] - 1s 8ms/step - loss: 0.0105 - accuracy: 0.9968\n",
      "Epoch 10/10\n",
      "87/87 [==============================] - 1s 7ms/step - loss: 0.0107 - accuracy: 0.9964\n",
      "22/22 [==============================] - 0s 4ms/step - loss: 0.0159 - accuracy: 0.9954\n",
      "Epoch 1/10\n",
      "87/87 [==============================] - 2s 7ms/step - loss: 0.7257 - accuracy: 0.8667\n",
      "Epoch 2/10\n",
      "87/87 [==============================] - 1s 9ms/step - loss: 0.0738 - accuracy: 0.9731\n",
      "Epoch 3/10\n",
      "87/87 [==============================] - 1s 8ms/step - loss: 0.0481 - accuracy: 0.9823\n",
      "Epoch 4/10\n",
      "87/87 [==============================] - 1s 7ms/step - loss: 0.0376 - accuracy: 0.9876\n",
      "Epoch 5/10\n",
      "87/87 [==============================] - 1s 7ms/step - loss: 0.0366 - accuracy: 0.9869\n",
      "Epoch 6/10\n",
      "87/87 [==============================] - 1s 7ms/step - loss: 0.0261 - accuracy: 0.9908\n",
      "Epoch 7/10\n",
      "87/87 [==============================] - 1s 8ms/step - loss: 0.0257 - accuracy: 0.9909\n",
      "Epoch 8/10\n",
      "87/87 [==============================] - 1s 8ms/step - loss: 0.0196 - accuracy: 0.9939\n",
      "Epoch 9/10\n",
      "87/87 [==============================] - 1s 8ms/step - loss: 0.0206 - accuracy: 0.9912\n",
      "Epoch 10/10\n",
      "87/87 [==============================] - 1s 7ms/step - loss: 0.0146 - accuracy: 0.9944\n",
      "22/22 [==============================] - 0s 3ms/step - loss: 0.0321 - accuracy: 0.9882\n",
      "Epoch 1/10\n",
      "87/87 [==============================] - 3s 16ms/step - loss: 0.5558 - accuracy: 0.9065\n",
      "Epoch 2/10\n",
      "87/87 [==============================] - 1s 12ms/step - loss: 0.0621 - accuracy: 0.9772\n",
      "Epoch 3/10\n",
      "87/87 [==============================] - 1s 10ms/step - loss: 0.0359 - accuracy: 0.9867\n",
      "Epoch 4/10\n",
      "87/87 [==============================] - 1s 11ms/step - loss: 0.0254 - accuracy: 0.9905\n",
      "Epoch 5/10\n",
      "87/87 [==============================] - 1s 11ms/step - loss: 0.0218 - accuracy: 0.9928\n",
      "Epoch 6/10\n",
      "87/87 [==============================] - 1s 11ms/step - loss: 0.0183 - accuracy: 0.9937\n",
      "Epoch 7/10\n",
      "87/87 [==============================] - 1s 11ms/step - loss: 0.0207 - accuracy: 0.9933\n",
      "Epoch 8/10\n",
      "87/87 [==============================] - 1s 11ms/step - loss: 0.0175 - accuracy: 0.9935\n",
      "Epoch 9/10\n",
      "87/87 [==============================] - 1s 11ms/step - loss: 0.0178 - accuracy: 0.9939\n",
      "Epoch 10/10\n",
      "87/87 [==============================] - 1s 11ms/step - loss: 0.0169 - accuracy: 0.9937\n",
      "22/22 [==============================] - 0s 4ms/step - loss: 0.0102 - accuracy: 0.9959\n",
      "Epoch 1/10\n",
      "87/87 [==============================] - 2s 10ms/step - loss: 0.8610 - accuracy: 0.8937\n",
      "Epoch 2/10\n",
      "87/87 [==============================] - 1s 10ms/step - loss: 0.0726 - accuracy: 0.9761\n",
      "Epoch 3/10\n",
      "87/87 [==============================] - 1s 10ms/step - loss: 0.0441 - accuracy: 0.9849\n",
      "Epoch 4/10\n",
      "87/87 [==============================] - 1s 10ms/step - loss: 0.0337 - accuracy: 0.9881\n",
      "Epoch 5/10\n",
      "87/87 [==============================] - 1s 10ms/step - loss: 0.0288 - accuracy: 0.9907\n",
      "Epoch 6/10\n",
      "87/87 [==============================] - 1s 10ms/step - loss: 0.0177 - accuracy: 0.9958\n",
      "Epoch 7/10\n",
      "87/87 [==============================] - 1s 10ms/step - loss: 0.0202 - accuracy: 0.9935\n",
      "Epoch 8/10\n",
      "87/87 [==============================] - 1s 11ms/step - loss: 0.0158 - accuracy: 0.9951\n",
      "Epoch 9/10\n",
      "87/87 [==============================] - 1s 10ms/step - loss: 0.0199 - accuracy: 0.9937\n",
      "Epoch 10/10\n",
      "87/87 [==============================] - 1s 10ms/step - loss: 0.0129 - accuracy: 0.9960\n",
      "22/22 [==============================] - 0s 4ms/step - loss: 0.0103 - accuracy: 0.9969\n",
      "Epoch 1/10\n",
      "87/87 [==============================] - 2s 10ms/step - loss: 1.1983 - accuracy: 0.8618\n",
      "Epoch 2/10\n",
      "87/87 [==============================] - 1s 10ms/step - loss: 0.0735 - accuracy: 0.9761\n",
      "Epoch 3/10\n",
      "87/87 [==============================] - 1s 10ms/step - loss: 0.0473 - accuracy: 0.9853\n",
      "Epoch 4/10\n",
      "87/87 [==============================] - 1s 10ms/step - loss: 0.0427 - accuracy: 0.9855\n",
      "Epoch 5/10\n",
      "87/87 [==============================] - 1s 10ms/step - loss: 0.0318 - accuracy: 0.9901\n",
      "Epoch 6/10\n",
      "87/87 [==============================] - 1s 11ms/step - loss: 0.0270 - accuracy: 0.9912\n",
      "Epoch 7/10\n",
      "87/87 [==============================] - 1s 10ms/step - loss: 0.0252 - accuracy: 0.9923\n",
      "Epoch 8/10\n",
      "87/87 [==============================] - 1s 10ms/step - loss: 0.0248 - accuracy: 0.9903\n",
      "Epoch 9/10\n",
      "87/87 [==============================] - 1s 10ms/step - loss: 0.0221 - accuracy: 0.9923\n",
      "Epoch 10/10\n",
      "87/87 [==============================] - 1s 10ms/step - loss: 0.0169 - accuracy: 0.9956\n",
      "22/22 [==============================] - 0s 4ms/step - loss: 0.0143 - accuracy: 0.9959\n",
      "Epoch 1/10\n",
      "109/109 [==============================] - 2s 9ms/step - loss: 0.8757 - accuracy: 0.8934\n",
      "Epoch 2/10\n",
      "109/109 [==============================] - 1s 10ms/step - loss: 0.0577 - accuracy: 0.9799\n",
      "Epoch 3/10\n",
      "109/109 [==============================] - 1s 10ms/step - loss: 0.0361 - accuracy: 0.9881\n",
      "Epoch 4/10\n",
      "109/109 [==============================] - 1s 10ms/step - loss: 0.0261 - accuracy: 0.9923\n",
      "Epoch 5/10\n",
      "109/109 [==============================] - 1s 10ms/step - loss: 0.0316 - accuracy: 0.9888\n",
      "Epoch 6/10\n",
      "109/109 [==============================] - 1s 10ms/step - loss: 0.0188 - accuracy: 0.9937\n",
      "Epoch 7/10\n",
      "109/109 [==============================] - 1s 10ms/step - loss: 0.0250 - accuracy: 0.9914\n",
      "Epoch 8/10\n",
      "109/109 [==============================] - 1s 10ms/step - loss: 0.0150 - accuracy: 0.9954\n",
      "Epoch 9/10\n",
      "109/109 [==============================] - 1s 10ms/step - loss: 0.0123 - accuracy: 0.9960\n",
      "Epoch 10/10\n",
      "109/109 [==============================] - 1s 10ms/step - loss: 0.0124 - accuracy: 0.9955\n",
      "{'batch_size': 90, 'epochs': 10}\n",
      "0.9944672226905823\n"
     ]
    }
   ],
   "source": [
    "from keras.layers import Conv2D, MaxPooling2D, Flatten, Dense\n",
    "from keras.models import Sequential\n",
    "from sklearn.model_selection import GridSearchCV\n",
    "from keras.wrappers.scikit_learn import KerasClassifier\n",
    "\n",
    "EPOCH = [10]\n",
    "BATCH_SIZE = [100]\n",
    "\n",
    "hyperMatrix = dict(epochs=EPOCH, batch_size=BATCH_SIZE)\n",
    "\n",
    "def buildModel(optimizer=\"adam\"):\n",
    "    model = Sequential()\n",
    "    model.add(Conv2D(64, (3,3), activation='relu', input_shape=(11,11,3)))\n",
    "    model.add(MaxPooling2D(pool_size=(2,2)))\n",
    "    model.add(Conv2D(32, (3,3), activation='relu'))\n",
    "    model.add(MaxPooling2D(pool_size=(2,2)))\n",
    "    model.add(Flatten())\n",
    "    model.add(Dense(32, activation='relu'))\n",
    "    model.add(Dense(1, activation='sigmoid'))\n",
    "    model.compile(loss='binary_crossentropy', optimizer=optimizer, metrics=['accuracy'])\n",
    "    return model\n",
    "\n",
    "model = KerasClassifier(build_fn=buildModel, verbose=1)\n",
    "\n",
    "grid = GridSearchCV(estimator=model, param_grid=hyperMatrix)\n",
    "\n",
    "# Start training\n",
    "history = grid.fit(X_train, y_train)\n",
    "\n",
    "print(history.best_params_)\n",
    "print(history.best_score_ )\n"
   ]
  },
  {
   "cell_type": "code",
   "execution_count": 5,
   "metadata": {},
   "outputs": [
    {
     "ename": "NameError",
     "evalue": "name 'history' is not defined",
     "output_type": "error",
     "traceback": [
      "\u001b[1;31m---------------------------------------------------------------------------\u001b[0m",
      "\u001b[1;31mNameError\u001b[0m                                 Traceback (most recent call last)",
      "Cell \u001b[1;32mIn[5], line 1\u001b[0m\n\u001b[1;32m----> 1\u001b[0m \u001b[39mprint\u001b[39m(history\u001b[39m.\u001b[39mbest_params_)\n\u001b[0;32m      2\u001b[0m \u001b[39mprint\u001b[39m(history\u001b[39m.\u001b[39mbest_score_ )\n",
      "\u001b[1;31mNameError\u001b[0m: name 'history' is not defined"
     ]
    }
   ],
   "source": [
    "print(history.best_params_)\n",
    "print(history.best_score_ )"
   ]
  },
  {
   "cell_type": "code",
   "execution_count": 10,
   "metadata": {},
   "outputs": [
    {
     "name": "stdout",
     "output_type": "stream",
     "text": [
      "305/305 [==============================] - 1s 1ms/step - loss: 0.0043 - accuracy: 0.9987\n",
      "Metrics on training set for run 1: loss=0.004276394844055176, accuracy=0.9986680150032043\n",
      "131/131 [==============================] - 0s 1ms/step - loss: 0.0170 - accuracy: 0.9959\n",
      "Metrics on test set for run 1: loss=0.01701175980269909, accuracy=0.995936930179596\n",
      "305/305 [==============================] - 0s 1ms/step - loss: 8.4696e-04 - accuracy: 0.9999\n",
      "Metrics on training set for run 2: loss=0.0008469565073028207, accuracy=0.9998975396156311\n",
      "131/131 [==============================] - 0s 2ms/step - loss: 0.0247 - accuracy: 0.9964\n",
      "Metrics on test set for run 2: loss=0.02474738098680973, accuracy=0.9964148998260498\n",
      "305/305 [==============================] - 1s 2ms/step - loss: 0.0095 - accuracy: 0.9969\n",
      "Metrics on training set for run 3: loss=0.009461906738579273, accuracy=0.9969262480735779\n",
      "131/131 [==============================] - 0s 2ms/step - loss: 0.0215 - accuracy: 0.9940\n",
      "Metrics on test set for run 3: loss=0.021473431959748268, accuracy=0.9940248727798462\n",
      "305/305 [==============================] - 1s 2ms/step - loss: 6.5562e-05 - accuracy: 1.0000\n",
      "Metrics on training set for run 4: loss=6.556200969498605e-05, accuracy=1.0\n",
      "131/131 [==============================] - 0s 2ms/step - loss: 0.0160 - accuracy: 0.9978\n",
      "Metrics on test set for run 4: loss=0.01598457805812359, accuracy=0.9978489279747009\n",
      "305/305 [==============================] - 1s 2ms/step - loss: 1.0131e-05 - accuracy: 1.0000\n",
      "Metrics on training set for run 5: loss=1.0131373528565746e-05, accuracy=1.0\n",
      "131/131 [==============================] - 0s 2ms/step - loss: 0.0182 - accuracy: 0.9974\n",
      "Metrics on test set for run 5: loss=0.018232204020023346, accuracy=0.9973709583282471\n",
      "train mean accuracy =  0.9990983605384827\n",
      "train std accuracy  =  0.0011973190447337827\n",
      "test mean accuracy =  0.9990983605384827\n",
      "test std accuracy  =  0.0011973190447337827\n"
     ]
    }
   ],
   "source": [
    "#Creating the model\n",
    "model = tf.keras.models.Sequential([\n",
    "    tf.keras.layers.Conv2D(64,(3,3) ,input_shape = (11,11,3),activation = 'relu'),  \n",
    "    tf.keras.layers.MaxPooling2D((2,2)),\n",
    "    tf.keras.layers.Conv2D(32,(3,3) ,activation = 'relu'),\n",
    "    tf.keras.layers.MaxPooling2D((2,2)),\n",
    "    \n",
    "    tf.keras.layers.Flatten(),\n",
    "    tf.keras.layers.Dense(32,activation = 'relu'),\n",
    "    tf.keras.layers.Dense(1,activation = 'sigmoid')\n",
    "])\n",
    "\n",
    "# Compile the model\n",
    "model.compile(optimizer='adam',\n",
    "              loss='binary_crossentropy',\n",
    "              metrics=['accuracy'])\n",
    "\n",
    "train_acc = []\n",
    "train_mean_acc = []\n",
    "train_std_acc = []\n",
    "\n",
    "test_acc = []\n",
    "test_mean_acc = []\n",
    "test_std_acc = []\n",
    "\n",
    "for rep in range(5):\n",
    "    model.fit(X_train, y_train, epochs=20, batch_size=90,verbose=False)\n",
    "    results = model.evaluate(X_train, y_train)\n",
    "    print(f\"Metrics on training set for run {rep+1}: loss={results[0]}, accuracy={results[1]}\" )\n",
    "    train_acc.append(results[1])\n",
    "    train_mean_acc.append(np.mean(train_acc))\n",
    "    train_std_acc.append(np.std(train_acc))\n",
    "\n",
    "    results_test = model.evaluate(X_test, y_test)\n",
    "    print(f\"Metrics on test set for run {rep+1}: loss={results_test[0]}, accuracy={results_test[1]}\" )\n",
    "    test_acc.append(results[1])\n",
    "    test_mean_acc.append(np.mean(test_acc))\n",
    "    test_std_acc.append(np.std(test_acc))\n",
    "\n",
    "\n",
    "print('train mean accuracy = ', np.mean(train_acc))\n",
    "print('train std accuracy  = ', np.std(train_acc))\n",
    "print('test mean accuracy = ', np.mean(test_acc))\n",
    "print('test std accuracy  = ', np.std(test_acc))"
   ]
  },
  {
   "cell_type": "code",
   "execution_count": 5,
   "metadata": {},
   "outputs": [
    {
     "name": "stdout",
     "output_type": "stream",
     "text": [
      "Model: \"sequential\"\n",
      "_________________________________________________________________\n",
      " Layer (type)                Output Shape              Param #   \n",
      "=================================================================\n",
      " conv2d (Conv2D)             (None, 9, 9, 64)          1792      \n",
      "                                                                 \n",
      " max_pooling2d (MaxPooling2D  (None, 4, 4, 64)         0         \n",
      " )                                                               \n",
      "                                                                 \n",
      " conv2d_1 (Conv2D)           (None, 2, 2, 32)          18464     \n",
      "                                                                 \n",
      " max_pooling2d_1 (MaxPooling  (None, 1, 1, 32)         0         \n",
      " 2D)                                                             \n",
      "                                                                 \n",
      " flatten (Flatten)           (None, 32)                0         \n",
      "                                                                 \n",
      " dense (Dense)               (None, 32)                1056      \n",
      "                                                                 \n",
      " dense_1 (Dense)             (None, 1)                 33        \n",
      "                                                                 \n",
      "=================================================================\n",
      "Total params: 21,345\n",
      "Trainable params: 21,345\n",
      "Non-trainable params: 0\n",
      "_________________________________________________________________\n"
     ]
    }
   ],
   "source": [
    "from keras.utils.vis_utils import plot_model\n",
    "\n",
    "model.summary()"
   ]
  },
  {
   "cell_type": "code",
   "execution_count": 11,
   "metadata": {},
   "outputs": [
    {
     "data": {
      "image/png": "[encoded data removed]",
      "text/plain": [
       "<Figure size 640x480 with 1 Axes>"
      ]
     },
     "metadata": {},
     "output_type": "display_data"
    }
   ],
   "source": [
    "fig, ax = plt.subplots()\n",
    "ax.errorbar(range(5), train_mean_acc, train_std_acc)\n",
    "plt.xlabel('Iterations')\n",
    "plt.ylabel('Acc')\n",
    "plt.grid()\n",
    "plt.show()"
   ]
  },
  {
   "attachments": {},
   "cell_type": "markdown",
   "metadata": {},
   "source": [
    "## Metrics"
   ]
  },
  {
   "cell_type": "code",
   "execution_count": 12,
   "metadata": {},
   "outputs": [
    {
     "name": "stdout",
     "output_type": "stream",
     "text": [
      "305/305 [==============================] - 0s 1ms/step\n",
      "Training Accuracy: 1.0\n",
      "Training Precision: 1.0\n",
      "Training Recall: 1.0\n",
      "Training F1-Score: 1.0\n",
      "Training Confusion Matrix:\n",
      "[[4899    0]\n",
      " [   0 4861]]\n"
     ]
    }
   ],
   "source": [
    "import numpy as np\n",
    "from sklearn.metrics import accuracy_score, precision_score, recall_score, f1_score, confusion_matrix\n",
    "\n",
    "# Assuming you have trained the Sequential model and have X_train, y_train\n",
    "\n",
    "# Predict labels for training data\n",
    "y_train_pred = model.predict(X_train)\n",
    "y_train_pred = (y_train_pred >= 0.5).astype(int)\n",
    "\n",
    "# Calculate metrics\n",
    "train_accuracy = accuracy_score(y_train, y_train_pred)\n",
    "train_precision = precision_score(y_train, y_train_pred, average='weighted')\n",
    "train_recall = recall_score(y_train, y_train_pred, average='weighted')\n",
    "train_f1 = f1_score(y_train, y_train_pred, average='weighted')\n",
    "train_cm = confusion_matrix(y_train, y_train_pred)\n",
    "\n",
    "# Print the results\n",
    "print(\"Training Accuracy:\", train_accuracy)\n",
    "print(\"Training Precision:\", train_precision)\n",
    "print(\"Training Recall:\", train_recall)\n",
    "print(\"Training F1-Score:\", train_f1)\n",
    "print(\"Training Confusion Matrix:\")\n",
    "print(train_cm)"
   ]
  },
  {
   "cell_type": "code",
   "execution_count": 13,
   "metadata": {},
   "outputs": [
    {
     "name": "stdout",
     "output_type": "stream",
     "text": [
      "131/131 [==============================] - 0s 1ms/step\n",
      "Testing Accuracy: 0.9973709369024857\n",
      "Testing Precision: 0.9973764265446978\n",
      "Testing Recall: 0.9973709369024857\n",
      "Testing F1-Score: 0.9973708895897074\n",
      "Testing Confusion Matrix:\n",
      "[[2064    9]\n",
      " [   2 2109]]\n"
     ]
    }
   ],
   "source": [
    "import numpy as np\n",
    "from sklearn.metrics import accuracy_score, precision_score, recall_score, f1_score, confusion_matrix\n",
    "\n",
    "# Assuming you have trained the Sequential model and have X_test, y_test\n",
    "\n",
    "# Predict labels for test data\n",
    "y_test_pred = model.predict(X_test)\n",
    "y_test_pred = (y_test_pred >= 0.5).astype(int)\n",
    "\n",
    "# Calculate metrics\n",
    "test_accuracy = accuracy_score(y_test, y_test_pred)\n",
    "test_precision = precision_score(y_test, y_test_pred, average='weighted')\n",
    "test_recall = recall_score(y_test, y_test_pred, average='weighted')\n",
    "test_f1 = f1_score(y_test, y_test_pred, average='weighted')\n",
    "test_cm = confusion_matrix(y_test, y_test_pred)\n",
    "\n",
    "# Print the results\n",
    "print(\"Testing Accuracy:\", test_accuracy)\n",
    "print(\"Testing Precision:\", test_precision)\n",
    "print(\"Testing Recall:\", test_recall)\n",
    "print(\"Testing F1-Score:\", test_f1)\n",
    "print(\"Testing Confusion Matrix:\")\n",
    "print(test_cm)"
   ]
  },
  {
   "cell_type": "code",
   "execution_count": 14,
   "metadata": {},
   "outputs": [
    {
     "name": "stdout",
     "output_type": "stream",
     "text": [
      "131/131 [==============================] - 0s 2ms/step - loss: 0.0182 - accuracy: 0.9974\n",
      "Test accuracy: 0.9973709583282471\n"
     ]
    }
   ],
   "source": [
    "test_loss, test_acc = model.evaluate(X_test, y_test)\n",
    "print('Test accuracy:', test_acc)"
   ]
  },
  {
   "cell_type": "code",
   "execution_count": 15,
   "metadata": {},
   "outputs": [
    {
     "name": "stdout",
     "output_type": "stream",
     "text": [
      "131/131 [==============================] - 0s 1ms/step\n"
     ]
    },
    {
     "data": {
      "image/png": "[encoded data removed]",
      "text/plain": [
       "<Figure size 640x480 with 2 Axes>"
      ]
     },
     "metadata": {},
     "output_type": "display_data"
    }
   ],
   "source": [
    "# Supposez que vous avez entraîné votre modèle et obtenu les prédictions sur l'ensemble de test\n",
    "y_pred = model.predict(X_test)\n",
    "\n",
    "y_pred_binary = (y_pred >= 0.5).astype(int)\n",
    "\n",
    "# Créer la matrice de confusion\n",
    "confusion_matrix = confusion_matrix(y_test, y_pred_binary)\n",
    "\n",
    "# Définir les étiquettes de classe\n",
    "class_labels = ['Varroa', 'Non-varroa']  # Remplacez les noms des classes par les vôtres\n",
    "\n",
    "# Créer une heatmap de la matrice de confusion\n",
    "sns.heatmap(confusion_matrix, annot=True, cmap='Blues', fmt='d', xticklabels=class_labels, yticklabels=class_labels)\n",
    "\n",
    "# Ajouter des étiquettes d'axe et un titre\n",
    "plt.xlabel('Prédictions')\n",
    "plt.ylabel('Vraies étiquettes')\n",
    "plt.title('Matrice de confusion')\n",
    "\n",
    "# Afficher la figure\n",
    "plt.show()\n",
    "\n",
    "    \n"
   ]
  },
  {
   "cell_type": "code",
   "execution_count": 16,
   "metadata": {},
   "outputs": [
    {
     "name": "stdout",
     "output_type": "stream",
     "text": [
      "131/131 [==============================] - 0s 1ms/step\n",
      "Sans compétences : ROC AUC=0.500\n",
      "Régression Logistique : ROC AUC=0.999\n"
     ]
    },
    {
     "data": {
      "image/png": "[encoded data removed]",
      "text/plain": [
       "<Figure size 640x480 with 1 Axes>"
      ]
     },
     "metadata": {},
     "output_type": "display_data"
    }
   ],
   "source": [
    "lr_probs = model.predict(X_test)\n",
    "# keep probabilities for the positive outcome only\n",
    "lr_probs = y_pred\n",
    "# calculate scores\n",
    "ns_probs = [0 for _ in range(len(y_test))]\n",
    "ns_auc = roc_auc_score(y_test, ns_probs)\n",
    "lr_auc = roc_auc_score(y_test, lr_probs)\n",
    "# summarize scores\n",
    "print('Sans compétences : ROC AUC=%.3f' % (ns_auc))\n",
    "print('Régression Logistique : ROC AUC=%.3f' % (lr_auc))\n",
    "# calculate roc curves\n",
    "ns_fpr, ns_tpr, _ = roc_curve(y_test, ns_probs)\n",
    "lr_fpr, lr_tpr, _ = roc_curve(y_test, lr_probs)\n",
    "# plot the roc curve for the model\n",
    "pyplot.plot(ns_fpr, ns_tpr, linestyle='--', label='Sans compétences')\n",
    "pyplot.plot(lr_fpr, lr_tpr, marker='.', label='Régression logistique')\n",
    "# axis labels\n",
    "pyplot.xlabel('Taux de faux positifs')\n",
    "pyplot.ylabel('Taux de vrais positifs')\n",
    "# show the legend\n",
    "pyplot.legend()\n",
    "# show the plot\n",
    "pyplot.show()"
   ]
  },
  {
   "cell_type": "code",
   "execution_count": 20,
   "metadata": {},
   "outputs": [
    {
     "name": "stdout",
     "output_type": "stream",
     "text": [
      "Saved model to disk\n"
     ]
    }
   ],
   "source": [
    "model.save_weights(\"model.h5\")\n"
   ]
  },
  {
   "cell_type": "code",
   "execution_count": 18,
   "metadata": {},
   "outputs": [
    {
     "name": "stdout",
     "output_type": "stream",
     "text": [
      "2.12.0-rc0\n",
      "2.12.0\n"
     ]
    }
   ],
   "source": [
    "import tensorflow as tf\n",
    "import keras\n",
    "\n",
    "print(tf.__version__)\n",
    "print(keras.__version__)"
   ]
  }
 ],
 "metadata": {
  "kernelspec": {
   "display_name": "Python 3",
   "language": "python",
   "name": "python3"
  },
  "language_info": {
   "codemirror_mode": {
    "name": "ipython",
    "version": 3
   },
   "file_extension": ".py",
   "mimetype": "text/x-python",
   "name": "python",
   "nbconvert_exporter": "python",
   "pygments_lexer": "ipython3",
   "version": "3.11.2"
  },
  "orig_nbformat": 4
 },
 "nbformat": 4,
 "nbformat_minor": 2
}
