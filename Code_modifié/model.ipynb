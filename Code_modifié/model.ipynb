{
 "cells": [
  {
   "cell_type": "code",
   "execution_count": 6,
   "metadata": {},
   "outputs": [],
   "source": [
    "import numpy as np\n",
    "import matplotlib.pyplot as plt\n",
    "import os\n",
    "import pandas as pd\n",
    "import cv2\n",
    "from sklearn.model_selection import train_test_split\n",
    "import tensorflow as tf"
   ]
  },
  {
   "cell_type": "code",
   "execution_count": 7,
   "metadata": {},
   "outputs": [],
   "source": [
    "dir1 = \"base/varroas\"\n",
    "dir2 = \"base/non_varroas\"\n",
    "\n",
    "IMG_WIDTH = 40  # Largeur souhaitée de l'image\n",
    "IMG_HEIGHT = 40  # Hauteur souhaitée de l'image\n",
    "\n",
    "X = []\n",
    "y = []\n",
    "\n",
    "# Parcourir le premier répertoire\n",
    "for filename in os.listdir(dir1):\n",
    "    img_path = os.path.join(dir1, filename)\n",
    "    img = cv2.imread(img_path)\n",
    "    img = cv2.resize(img, (IMG_WIDTH, IMG_HEIGHT))  # Redimensionner l'image\n",
    "    # Effectuez ici d'autres traitements sur l'image si nécessaire\n",
    "    X.append(img)\n",
    "    y.append(0)  # 0 pour le premier répertoire\n",
    "\n",
    "# Parcourir le deuxième répertoire\n",
    "for filename in os.listdir(dir2):\n",
    "    img_path = os.path.join(dir2, filename)\n",
    "    img = cv2.imread(img_path)\n",
    "    img = cv2.resize(img, (IMG_WIDTH, IMG_HEIGHT))  # Redimensionner l'image\n",
    "    # Effectuez ici d'autres traitements sur l'image si nécessaire\n",
    "    X.append(img)\n",
    "    y.append(1)  # 1 pour le deuxième répertoire\n",
    "\n",
    "X = np.array(X)\n",
    "y = np.array(y)\n",
    "\n",
    "X_train, X_test, y_train, y_test = train_test_split(X, y, test_size=0.3, random_state=42)\n",
    "\n",
    "#image = X_train[2]\n",
    "# Afficher l'image redimensionnée\n",
    "#cv2.imshow(\"Image redimensionnée\", image)\n",
    "\n",
    "\n"
   ]
  },
  {
   "cell_type": "code",
   "execution_count": 10,
   "metadata": {},
   "outputs": [
    {
     "name": "stdout",
     "output_type": "stream",
     "text": [
      "Epoch 1/10\n",
      "32/32 [==============================] - 2s 25ms/step - loss: 5.5130 - accuracy: 0.6325\n",
      "Epoch 2/10\n",
      "32/32 [==============================] - 1s 26ms/step - loss: 0.4197 - accuracy: 0.8297\n",
      "Epoch 3/10\n",
      "32/32 [==============================] - 1s 25ms/step - loss: 0.4109 - accuracy: 0.8139\n",
      "Epoch 4/10\n",
      "32/32 [==============================] - 1s 26ms/step - loss: 0.3404 - accuracy: 0.8565\n",
      "Epoch 5/10\n",
      "32/32 [==============================] - 1s 29ms/step - loss: 0.3543 - accuracy: 0.8612\n",
      "Epoch 6/10\n",
      "32/32 [==============================] - 1s 26ms/step - loss: 0.3402 - accuracy: 0.8375\n",
      "Epoch 7/10\n",
      "32/32 [==============================] - 1s 28ms/step - loss: 0.3166 - accuracy: 0.8659\n",
      "Epoch 8/10\n",
      "32/32 [==============================] - 1s 28ms/step - loss: 0.3235 - accuracy: 0.8612\n",
      "Epoch 9/10\n",
      "32/32 [==============================] - 1s 27ms/step - loss: 0.2247 - accuracy: 0.9164\n",
      "Epoch 10/10\n",
      "32/32 [==============================] - 1s 29ms/step - loss: 0.1694 - accuracy: 0.9448\n"
     ]
    },
    {
     "data": {
      "text/plain": [
       "<keras.callbacks.History at 0x26fb074f390>"
      ]
     },
     "execution_count": 10,
     "metadata": {},
     "output_type": "execute_result"
    }
   ],
   "source": [
    "\n",
    "model = tf.keras.models.Sequential([\n",
    "    tf.keras.layers.Conv2D(32,(3,3) ,input_shape = (40,40,3),activation = 'relu'),\n",
    "    tf.keras.layers.MaxPooling2D((2,2)),\n",
    "    tf.keras.layers.Conv2D(64,(3,3) ,activation = 'relu'),\n",
    "    tf.keras.layers.MaxPooling2D((2,2)),\n",
    "    tf.keras.layers.Conv2D(128,(3,3) ,activation = 'relu'),\n",
    "    tf.keras.layers.MaxPooling2D((2,2)),\n",
    "    \n",
    "    tf.keras.layers.Flatten(),\n",
    "    tf.keras.layers.Dense(128,activation = 'relu'),\n",
    "    tf.keras.layers.Dense(1,activation = 'sigmoid')\n",
    "])\n",
    "\n",
    "# Compile the model\n",
    "model.compile(optimizer='adam',\n",
    "              loss='binary_crossentropy',\n",
    "              metrics=['accuracy'])\n",
    "\n",
    "model.fit(X_train, y_train, epochs=10, batch_size=20)\n"
   ]
  },
  {
   "cell_type": "code",
   "execution_count": 11,
   "metadata": {},
   "outputs": [
    {
     "name": "stdout",
     "output_type": "stream",
     "text": [
      "9/9 [==============================] - 0s 9ms/step - loss: 0.2395 - accuracy: 0.9084\n",
      "Test accuracy: 0.9084249138832092\n"
     ]
    }
   ],
   "source": [
    "test_loss, test_acc = model.evaluate(X_test, y_test)\n",
    "print('Test accuracy:', test_acc)"
   ]
  }
 ],
 "metadata": {
  "kernelspec": {
   "display_name": "Python 3",
   "language": "python",
   "name": "python3"
  },
  "language_info": {
   "codemirror_mode": {
    "name": "ipython",
    "version": 3
   },
   "file_extension": ".py",
   "mimetype": "text/x-python",
   "name": "python",
   "nbconvert_exporter": "python",
   "pygments_lexer": "ipython3",
   "version": "3.11.2"
  },
  "orig_nbformat": 4
 },
 "nbformat": 4,
 "nbformat_minor": 2
}
